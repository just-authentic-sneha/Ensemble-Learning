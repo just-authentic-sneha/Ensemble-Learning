{
  "nbformat": 4,
  "nbformat_minor": 0,
  "metadata": {
    "colab": {
      "provenance": []
    },
    "kernelspec": {
      "name": "python3",
      "display_name": "Python 3"
    },
    "language_info": {
      "name": "python"
    }
  },
  "cells": [
    {
      "cell_type": "markdown",
      "source": [
        "# Ensemble Learning"
      ],
      "metadata": {
        "id": "1VEvyuhI4SEf"
      }
    },
    {
      "cell_type": "markdown",
      "source": [
        "---\n",
        "## Theory"
      ],
      "metadata": {
        "id": "KUOOj6CD4UVL"
      }
    },
    {
      "cell_type": "markdown",
      "source": [
        "\n",
        "---\n",
        "### 1. Can we use Bagging for regression problems?\n",
        "- Yes, Bagging can be used for both classification and regression problems. In regression, a Bagging Regressor aggregates the predictions by averaging the outputs of multiple base regressors.\n",
        "\n",
        "---\n",
        "###2. What is the difference between multiple model training and single model training?\n",
        "- Single model training uses one algorithm to learn the data, whereas multiple model training (ensemble methods) combines several models to improve performance, stability, and generalization.\n",
        "\n",
        "---\n",
        "###3. Explain the concept of feature randomness in Random Forest.\n",
        "- In Random Forest, feature randomness means that at each split in a decision tree, a random subset of features is considered instead of all features. This helps in making the trees more diverse and reduces correlation among them.\n",
        "\n",
        "---\n",
        "###4. What is OOB (Out-of-Bag) Score?\n",
        "- OOB Score is an internal validation score used in ensemble methods like Bagging or Random Forest. It uses samples not selected in the bootstrap sample (out-of-bag) to evaluate model accuracy, acting like a built-in cross-validation.\n",
        "\n",
        "---\n",
        "###5. How can you measure the importance of features in a Random Forest model?\n",
        "- Random Forest measures feature importance based on how much each feature decreases impurity (like Gini index or entropy) across all trees. Features that contribute more to reducing impurity are considered more important.\n",
        "\n",
        "---\n",
        "###6. Explain the working principle of a Bagging Classifier.\n",
        "- A Bagging Classifier builds multiple models (typically decision trees) using random subsets of the training data (with replacement) and combines their predictions via majority voting to produce the final output.\n",
        "\n",
        "---\n",
        "###7. How do you evaluate a Bagging Classifier's performance?\n",
        "- You can evaluate it using metrics like accuracy, precision, recall, F1-score, or confusion matrix on a test set or using the out-of-bag (OOB) score as an internal validation metric.\n",
        "\n",
        "---\n",
        "###8. How does a Bagging Regressor work?\n",
        "- A Bagging Regressor trains multiple regressors on different bootstrapped subsets of the data. Their outputs are then averaged to make the final prediction, reducing variance and improving stability.\n",
        "\n",
        "---\n",
        "###9. What is the main advantage of ensemble techniques?\n",
        "- The main advantage is improved accuracy and generalization. They reduce overfitting, increase robustness, and combine the strengths of multiple models.\n",
        "\n",
        "---\n",
        "###10. What is the main challenge of ensemble methods?\n",
        "- The main challenges include increased computational cost, longer training time, and reduced interpretability compared to individual models.\n",
        "\n",
        "---\n",
        "###11. Explain the key idea behind ensemble techniques.\n",
        "- Ensemble techniques combine predictions from multiple models to create a more accurate and robust overall model. The idea is that a group of weak learners can perform better together than individually.\n",
        "\n",
        "---\n",
        "###12. What is a Random Forest Classifier?\n",
        "- A Random Forest Classifier is an ensemble model that builds multiple decision trees during training and outputs the mode (majority vote) of their predictions. It introduces randomness in both data (bagging) and features (feature subsetting).\n",
        "\n",
        "---\n",
        "###13. What are the main types of ensemble techniques?\n",
        "The main types are:\n",
        "- Bagging (Bootstrap Aggregation)\n",
        "- Boosting (e.g., AdaBoost, Gradient Boosting)\n",
        "- Stacking (Stacked Generalization)\n",
        "- Voting (Majority or Weighted Voting)\n",
        "\n",
        "---\n",
        "###14. What is ensemble learning in machine learning?\n",
        "- Ensemble learning is a technique where multiple models (often called \"weak learners\") are trained and combined to solve the same problem, resulting in better overall performance.\n",
        "\n",
        "---\n",
        "###15. When should we avoid using ensemble methods?\n",
        "Avoid ensemble methods when:\n",
        "- The base model already performs very well.\n",
        "- Interpretability is crucial.\n",
        "- Computational resources are limited.\n",
        "- Data is too small for effective ensemble training.\n",
        "\n",
        "---\n",
        "###16. How does Bagging help in reducing overfitting?\n",
        "- Bagging reduces overfitting by averaging multiple models trained on different random subsets of data, thus smoothing out the predictions and reducing variance.\n",
        "\n",
        "---\n",
        "###17. Why is Random Forest better than a single Decision Tree?\n",
        "- Random Forest reduces overfitting and improves accuracy by combining the predictions of multiple trees. It introduces both data and feature randomness, leading to more generalized and robust models.\n",
        "\n",
        "---\n",
        "###18. What is the role of bootstrap sampling in Bagging?\n",
        "- Bootstrap sampling randomly selects data points with replacement to create different subsets for training each base model. This ensures diversity among models and reduces variance.\n",
        "\n",
        "---\n",
        "###19. What are some real-world applications of ensemble techniques?\n",
        "- Fraud detection\n",
        "- Spam filtering\n",
        "- Credit scoring\n",
        "- Image classification\n",
        "- Medical diagnosis\n",
        "- Stock market prediction\n",
        "\n",
        "---\n",
        "###20. What is the difference between Bagging and Boosting?\n",
        "- Bagging trains models in parallel and reduces variance.\n",
        "- Boosting trains models sequentially, focusing on correcting previous errors, and reduces bias.\n",
        "- Bagging is less prone to overfitting; Boosting can overfit if not regularized properly.\n",
        "\n",
        "---"
      ],
      "metadata": {
        "id": "fCpdaljt4WRP"
      }
    },
    {
      "cell_type": "markdown",
      "source": [
        "## Practical"
      ],
      "metadata": {
        "id": "4pg6WLib5nfJ"
      }
    },
    {
      "cell_type": "code",
      "source": [
        "# 21. Train a Bagging Classifier using Decision Trees on a sample dataset and print model accuracy\n",
        "\n",
        "from sklearn.ensemble import BaggingClassifier\n",
        "from sklearn.tree import DecisionTreeClassifier\n",
        "from sklearn.datasets import load_iris\n",
        "from sklearn.model_selection import train_test_split\n",
        "from sklearn.metrics import accuracy_score\n",
        "\n",
        "# Load sample dataset\n",
        "X, y = load_iris(return_X_y=True)\n",
        "\n",
        "# Split into train and test sets\n",
        "X_train, X_test, y_train, y_test = train_test_split(X, y, test_size=0.3, random_state=42)\n",
        "\n",
        "# Initialize Bagging Classifier with Decision Tree as base estimator (use 'estimator' in newer sklearn versions)\n",
        "bagging_model = BaggingClassifier(estimator=DecisionTreeClassifier(),\n",
        "                                  n_estimators=10,\n",
        "                                  random_state=42)\n",
        "\n",
        "# Train the model\n",
        "bagging_model.fit(X_train, y_train)\n",
        "\n",
        "# Make predictions\n",
        "y_pred = bagging_model.predict(X_test)\n",
        "\n",
        "# Evaluate and print accuracy\n",
        "accuracy = accuracy_score(y_test, y_pred)\n",
        "print(\"Bagging Classifier Accuracy:\", accuracy)\n",
        "\n"
      ],
      "metadata": {
        "colab": {
          "base_uri": "https://localhost:8080/"
        },
        "id": "JQRLZWJG5gO9",
        "outputId": "474a4cec-c490-462a-fcb9-28a12f65c35d"
      },
      "execution_count": 3,
      "outputs": [
        {
          "output_type": "stream",
          "name": "stdout",
          "text": [
            "Bagging Classifier Accuracy: 1.0\n"
          ]
        }
      ]
    },
    {
      "cell_type": "code",
      "source": [
        "# 22. Train a Bagging Regressor using Decision Trees and evaluate using Mean Squared Error (MSE)\n",
        "\n",
        "from sklearn.ensemble import BaggingRegressor\n",
        "from sklearn.tree import DecisionTreeRegressor\n",
        "from sklearn.datasets import fetch_california_housing\n",
        "from sklearn.model_selection import train_test_split\n",
        "from sklearn.metrics import mean_squared_error\n",
        "\n",
        "# Load regression dataset\n",
        "Xr, yr = fetch_california_housing(return_X_y=True)\n",
        "Xr_train, Xr_test, yr_train, yr_test = train_test_split(Xr, yr, test_size=0.3, random_state=42)\n",
        "\n",
        "# Use DecisionTreeRegressor instead of classifier\n",
        "bagging_reg = BaggingRegressor(estimator=DecisionTreeRegressor(), n_estimators=10, random_state=42)\n",
        "bagging_reg.fit(Xr_train, yr_train)\n",
        "pred = bagging_reg.predict(Xr_test)\n",
        "\n",
        "# Evaluate\n",
        "print(\"Bagging Regressor MSE:\", mean_squared_error(yr_test, pred))\n",
        "\n",
        "\n"
      ],
      "metadata": {
        "colab": {
          "base_uri": "https://localhost:8080/"
        },
        "id": "rFlinPZM5gcb",
        "outputId": "35cc8779-51f5-4d5d-e1c3-30a1bf8a77d1"
      },
      "execution_count": 7,
      "outputs": [
        {
          "output_type": "stream",
          "name": "stdout",
          "text": [
            "Bagging Regressor MSE: 0.28623579601385674\n"
          ]
        }
      ]
    },
    {
      "cell_type": "code",
      "source": [
        "# 23. Train a Random Forest Classifier on the Breast Cancer dataset and print feature importance\n",
        "from sklearn.ensemble import RandomForestClassifier\n",
        "from sklearn.datasets import load_breast_cancer\n",
        "\n",
        "Xc, yc = load_breast_cancer(return_X_y=True)\n",
        "Xc_train, Xc_test, yc_train, yc_test = train_test_split(Xc, yc, test_size=0.3, random_state=42)\n",
        "\n",
        "rf = RandomForestClassifier(n_estimators=100, random_state=42)\n",
        "rf.fit(Xc_train, yc_train)\n",
        "importances = rf.feature_importances_\n",
        "features = load_breast_cancer().feature_names\n",
        "\n",
        "print(\"Feature Importances:\")\n",
        "for name, score in zip(features, importances):\n",
        "    print(f\"{name}: {score:.4f}\")\n"
      ],
      "metadata": {
        "colab": {
          "base_uri": "https://localhost:8080/"
        },
        "id": "KLpXsynh5gi8",
        "outputId": "bd3e4392-4d19-4d67-afba-dc85fc046493"
      },
      "execution_count": 8,
      "outputs": [
        {
          "output_type": "stream",
          "name": "stdout",
          "text": [
            "Feature Importances:\n",
            "mean radius: 0.0323\n",
            "mean texture: 0.0111\n",
            "mean perimeter: 0.0601\n",
            "mean area: 0.0538\n",
            "mean smoothness: 0.0062\n",
            "mean compactness: 0.0092\n",
            "mean concavity: 0.0806\n",
            "mean concave points: 0.1419\n",
            "mean symmetry: 0.0033\n",
            "mean fractal dimension: 0.0031\n",
            "radius error: 0.0164\n",
            "texture error: 0.0032\n",
            "perimeter error: 0.0118\n",
            "area error: 0.0295\n",
            "smoothness error: 0.0059\n",
            "compactness error: 0.0046\n",
            "concavity error: 0.0058\n",
            "concave points error: 0.0034\n",
            "symmetry error: 0.0040\n",
            "fractal dimension error: 0.0071\n",
            "worst radius: 0.0780\n",
            "worst texture: 0.0188\n",
            "worst perimeter: 0.0743\n",
            "worst area: 0.1182\n",
            "worst smoothness: 0.0118\n",
            "worst compactness: 0.0175\n",
            "worst concavity: 0.0411\n",
            "worst concave points: 0.1271\n",
            "worst symmetry: 0.0129\n",
            "worst fractal dimension: 0.0069\n"
          ]
        }
      ]
    },
    {
      "cell_type": "code",
      "source": [
        "# 24. Train a Random Forest Regressor and compare with a single Decision Tree\n",
        "from sklearn.ensemble import RandomForestRegressor\n",
        "from sklearn.tree import DecisionTreeRegressor\n",
        "\n",
        "rf = RandomForestRegressor(n_estimators=100, random_state=42)\n",
        "dt = DecisionTreeRegressor(random_state=42)\n",
        "rf.fit(Xr_train, yr_train)\n",
        "dt.fit(Xr_train, yr_train)\n",
        "\n",
        "rf_pred = rf.predict(Xr_test)\n",
        "dt_pred = dt.predict(Xr_test)\n",
        "\n",
        "print(\"Random Forest Regressor MSE:\", mean_squared_error(yr_test, rf_pred))\n",
        "print(\"Decision Tree Regressor MSE:\", mean_squared_error(yr_test, dt_pred))\n"
      ],
      "metadata": {
        "colab": {
          "base_uri": "https://localhost:8080/"
        },
        "id": "c7dvN0gO5gnY",
        "outputId": "9822dfff-5d80-41eb-9395-c49daf27ce8e"
      },
      "execution_count": 9,
      "outputs": [
        {
          "output_type": "stream",
          "name": "stdout",
          "text": [
            "Random Forest Regressor MSE: 0.25650512920799395\n",
            "Decision Tree Regressor MSE: 0.5280096503174904\n"
          ]
        }
      ]
    },
    {
      "cell_type": "code",
      "source": [
        "# 25. Compute Out-of-Bag (OOB) Score for a Random Forest Classifier\n",
        "rf_oob = RandomForestClassifier(n_estimators=100, oob_score=True, bootstrap=True, random_state=42)\n",
        "rf_oob.fit(Xc_train, yc_train)\n",
        "\n",
        "print(\"OOB Score:\", rf_oob.oob_score_)\n"
      ],
      "metadata": {
        "colab": {
          "base_uri": "https://localhost:8080/"
        },
        "id": "mWTzGGLd5gqk",
        "outputId": "cd817437-43f9-48c6-f9ad-58c0b86c46f1"
      },
      "execution_count": 12,
      "outputs": [
        {
          "output_type": "stream",
          "name": "stdout",
          "text": [
            "OOB Score: 0.9547738693467337\n"
          ]
        }
      ]
    },
    {
      "cell_type": "code",
      "source": [
        "# 26. Train a Bagging Classifier using SVM and print accuracy\n",
        "from sklearn.svm import SVC\n",
        "\n",
        "svm = SVC(probability=True, kernel='rbf')\n",
        "bagging_svm = BaggingClassifier(estimator=svm, n_estimators=10, random_state=42)\n",
        "bagging_svm.fit(Xc_train, yc_train)\n",
        "svm_pred = bagging_svm.predict(Xc_test)\n",
        "\n",
        "print(\"Bagging with SVM Accuracy:\", accuracy_score(yc_test, svm_pred))\n"
      ],
      "metadata": {
        "colab": {
          "base_uri": "https://localhost:8080/"
        },
        "id": "7YFXrk_h5gx5",
        "outputId": "fab18414-8aed-47d7-ac7f-91b1b6f10a24"
      },
      "execution_count": 10,
      "outputs": [
        {
          "output_type": "stream",
          "name": "stdout",
          "text": [
            "Bagging with SVM Accuracy: 0.9473684210526315\n"
          ]
        }
      ]
    },
    {
      "cell_type": "code",
      "source": [
        "# 27. Train a Random Forest Classifier with different tree counts and compare accuracy\n",
        "for n in [10, 50, 100, 200]:\n",
        "    rf_model = RandomForestClassifier(n_estimators=n, random_state=42)\n",
        "    rf_model.fit(Xc_train, yc_train)\n",
        "    acc = rf_model.score(Xc_test, yc_test)\n",
        "    print(f\"Accuracy with {n} trees: {acc:.4f}\")\n"
      ],
      "metadata": {
        "colab": {
          "base_uri": "https://localhost:8080/"
        },
        "id": "vK6S_ilG5g1B",
        "outputId": "953d9282-deb5-442b-edc3-bbf922b3c928"
      },
      "execution_count": 13,
      "outputs": [
        {
          "output_type": "stream",
          "name": "stdout",
          "text": [
            "Accuracy with 10 trees: 0.9649\n",
            "Accuracy with 50 trees: 0.9708\n",
            "Accuracy with 100 trees: 0.9708\n",
            "Accuracy with 200 trees: 0.9708\n"
          ]
        }
      ]
    },
    {
      "cell_type": "code",
      "source": [
        "# 28. Train a Bagging Classifier using Logistic Regression as a base estimator and print AUC score\n",
        "\n",
        "from sklearn.datasets import load_breast_cancer\n",
        "from sklearn.linear_model import LogisticRegression\n",
        "from sklearn.ensemble import BaggingClassifier\n",
        "from sklearn.model_selection import train_test_split\n",
        "from sklearn.metrics import roc_auc_score\n",
        "from sklearn.preprocessing import StandardScaler\n",
        "from sklearn.pipeline import make_pipeline\n",
        "\n",
        "# Load data\n",
        "X, y = load_breast_cancer(return_X_y=True)\n",
        "X_train, X_test, y_train, y_test = train_test_split(X, y, test_size=0.3, random_state=42)\n",
        "\n",
        "# Build a pipeline: scaling + logistic regression\n",
        "logistic_pipe = make_pipeline(\n",
        "    StandardScaler(),\n",
        "    LogisticRegression(max_iter=1000, solver='lbfgs')\n",
        ")\n",
        "\n",
        "# Bagging Classifier with scaled Logistic Regression\n",
        "bagging_model = BaggingClassifier(estimator=logistic_pipe, n_estimators=10, random_state=42)\n",
        "bagging_model.fit(X_train, y_train)\n",
        "\n",
        "# Predict probabilities for positive class\n",
        "y_pred_prob = bagging_model.predict_proba(X_test)[:, 1]\n",
        "\n",
        "# Evaluate with AUC\n",
        "auc = roc_auc_score(y_test, y_pred_prob)\n",
        "print(\"Bagging Logistic Regression AUC Score:\", auc)\n",
        "\n"
      ],
      "metadata": {
        "colab": {
          "base_uri": "https://localhost:8080/"
        },
        "id": "BUkHz_mW5g3-",
        "outputId": "d71c7d66-e4a7-4aa6-d642-fbc8dcc10b68"
      },
      "execution_count": 32,
      "outputs": [
        {
          "output_type": "stream",
          "name": "stdout",
          "text": [
            "Bagging Logistic Regression AUC Score: 0.9975014697236919\n"
          ]
        }
      ]
    },
    {
      "cell_type": "code",
      "source": [
        "# 29. Train a Random Forest Regressor and print feature importances\n",
        "rf = RandomForestRegressor(n_estimators=100, random_state=42)\n",
        "rf.fit(Xr_train, yr_train)\n",
        "print(\"Feature Importances (California Housing):\")\n",
        "for i, score in enumerate(rf.feature_importances_):\n",
        "    print(f\"Feature {i}: {score:.4f}\")\n"
      ],
      "metadata": {
        "colab": {
          "base_uri": "https://localhost:8080/"
        },
        "id": "HkJVLM365g7B",
        "outputId": "85bece9e-7e39-43df-8704-bc9d747c8fe8"
      },
      "execution_count": 15,
      "outputs": [
        {
          "output_type": "stream",
          "name": "stdout",
          "text": [
            "Feature Importances (California Housing):\n",
            "Feature 0: 0.5260\n",
            "Feature 1: 0.0547\n",
            "Feature 2: 0.0472\n",
            "Feature 3: 0.0300\n",
            "Feature 4: 0.0317\n",
            "Feature 5: 0.1382\n",
            "Feature 6: 0.0861\n",
            "Feature 7: 0.0861\n"
          ]
        }
      ]
    },
    {
      "cell_type": "code",
      "source": [
        "# 30. Train Bagging and Random Forest classifiers and compare accuracy\n",
        "bag_model = BaggingClassifier(estimator=DecisionTreeClassifier(), n_estimators=100, random_state=42)\n",
        "rf_model = RandomForestClassifier(n_estimators=100, random_state=42)\n",
        "bag_model.fit(Xc_train, yc_train)\n",
        "rf_model.fit(Xc_train, yc_train)\n",
        "\n",
        "print(\"Bagging Accuracy:\", bag_model.score(Xc_test, yc_test))\n",
        "print(\"Random Forest Accuracy:\", rf_model.score(Xc_test, yc_test))\n"
      ],
      "metadata": {
        "colab": {
          "base_uri": "https://localhost:8080/"
        },
        "id": "3xdkmw_65g91",
        "outputId": "d1e631c5-7e23-4f71-a661-da894390bc03"
      },
      "execution_count": 16,
      "outputs": [
        {
          "output_type": "stream",
          "name": "stdout",
          "text": [
            "Bagging Accuracy: 0.9590643274853801\n",
            "Random Forest Accuracy: 0.9707602339181286\n"
          ]
        }
      ]
    },
    {
      "cell_type": "code",
      "source": [
        "# 31. Train a Random Forest Classifier and tune hyperparameters using GridSearchCV\n",
        "\n",
        "from sklearn.ensemble import RandomForestClassifier\n",
        "from sklearn.model_selection import GridSearchCV\n",
        "from sklearn.datasets import load_breast_cancer\n",
        "from sklearn.model_selection import train_test_split\n",
        "\n",
        "X, y = load_breast_cancer(return_X_y=True)\n",
        "X_train, X_test, y_train, y_test = train_test_split(X, y, test_size=0.3, random_state=42)\n",
        "\n",
        "param_grid = {\n",
        "    'n_estimators': [50, 100],\n",
        "    'max_depth': [None, 5, 10],\n",
        "    'max_features': ['sqrt', 'log2']\n",
        "}\n",
        "\n",
        "grid_search = GridSearchCV(RandomForestClassifier(random_state=42), param_grid, cv=5, scoring='accuracy')\n",
        "grid_search.fit(X_train, y_train)\n",
        "\n",
        "print(\"Best Parameters:\", grid_search.best_params_)\n",
        "print(\"Best Accuracy:\", grid_search.best_score_)\n"
      ],
      "metadata": {
        "colab": {
          "base_uri": "https://localhost:8080/"
        },
        "id": "GxWM3bKL5hAo",
        "outputId": "658e617b-1254-4f17-efdd-db61eaa2d3ea"
      },
      "execution_count": 1,
      "outputs": [
        {
          "output_type": "stream",
          "name": "stdout",
          "text": [
            "Best Parameters: {'max_depth': None, 'max_features': 'log2', 'n_estimators': 50}\n",
            "Best Accuracy: 0.9521835443037974\n"
          ]
        }
      ]
    },
    {
      "cell_type": "code",
      "source": [
        "# 32. Train a Bagging Regressor with different numbers of base estimators and compare performance\n",
        "\n",
        "from sklearn.datasets import load_diabetes\n",
        "from sklearn.tree import DecisionTreeRegressor\n",
        "from sklearn.ensemble import BaggingRegressor\n",
        "from sklearn.model_selection import train_test_split\n",
        "from sklearn.metrics import mean_squared_error\n",
        "\n",
        "# Load dataset\n",
        "X, y = load_diabetes(return_X_y=True)\n",
        "X_train, X_test, y_train, y_test = train_test_split(X, y, test_size=0.3, random_state=42)\n",
        "\n",
        "# Train with different n_estimators\n",
        "for n in [5, 10, 50]:\n",
        "    model = BaggingRegressor(estimator=DecisionTreeRegressor(), n_estimators=n, random_state=42)\n",
        "    model.fit(X_train, y_train)\n",
        "    y_pred = model.predict(X_test)\n",
        "    mse = mean_squared_error(y_test, y_pred)\n",
        "    print(f\"{n} Base Estimators - MSE: {mse:.2f}\")\n",
        "\n"
      ],
      "metadata": {
        "colab": {
          "base_uri": "https://localhost:8080/"
        },
        "id": "lTTxZYzW5hDU",
        "outputId": "b29c2e35-8610-49f5-ef1a-72c956f0cb0b"
      },
      "execution_count": 27,
      "outputs": [
        {
          "output_type": "stream",
          "name": "stdout",
          "text": [
            "5 Base Estimators - MSE: 3366.72\n",
            "10 Base Estimators - MSE: 3237.53\n",
            "50 Base Estimators - MSE: 2987.01\n"
          ]
        }
      ]
    },
    {
      "cell_type": "code",
      "source": [
        "# 33. Train a Random Forest Classifier and analyze misclassified samples\n",
        "\n",
        "rf = RandomForestClassifier(n_estimators=100, random_state=42)\n",
        "rf.fit(X_train, y_train)\n",
        "y_pred = rf.predict(X_test)\n",
        "\n",
        "misclassified = X_test[y_pred != y_test]\n",
        "print(f\"Number of misclassified samples: {len(misclassified)}\")\n"
      ],
      "metadata": {
        "colab": {
          "base_uri": "https://localhost:8080/"
        },
        "id": "h8TcvVnt5hGE",
        "outputId": "01764840-23c1-4379-929c-ecf368fd4fe9"
      },
      "execution_count": 4,
      "outputs": [
        {
          "output_type": "stream",
          "name": "stdout",
          "text": [
            "Number of misclassified samples: 5\n"
          ]
        }
      ]
    },
    {
      "cell_type": "code",
      "source": [
        "# 34. Train a Bagging Classifier and compare its performance with a single Decision Tree Classifier\n",
        "\n",
        "from sklearn.datasets import load_breast_cancer\n",
        "from sklearn.model_selection import train_test_split\n",
        "from sklearn.tree import DecisionTreeClassifier\n",
        "from sklearn.ensemble import BaggingClassifier\n",
        "from sklearn.metrics import accuracy_score\n",
        "\n",
        "# Load dataset\n",
        "X, y = load_breast_cancer(return_X_y=True)\n",
        "X_train, X_test, y_train, y_test = train_test_split(X, y, test_size=0.3, random_state=42)\n",
        "\n",
        "# Train base Decision Tree\n",
        "dt = DecisionTreeClassifier()\n",
        "dt.fit(X_train, y_train)\n",
        "y_pred_dt = dt.predict(X_test)\n",
        "\n",
        "# Train Bagging Classifier using Decision Tree\n",
        "bag = BaggingClassifier(estimator=DecisionTreeClassifier(), n_estimators=50, random_state=42)\n",
        "bag.fit(X_train, y_train)\n",
        "y_pred_bag = bag.predict(X_test)\n",
        "\n",
        "# Compare accuracies\n",
        "print(\"Decision Tree Accuracy:\", accuracy_score(y_test, y_pred_dt))\n",
        "print(\"Bagging Classifier Accuracy:\", accuracy_score(y_test, y_pred_bag))\n",
        "\n"
      ],
      "metadata": {
        "colab": {
          "base_uri": "https://localhost:8080/"
        },
        "id": "LSEAkJug5hIh",
        "outputId": "a0f1e0c1-a30a-42e6-b4c1-97c2fd008963"
      },
      "execution_count": 26,
      "outputs": [
        {
          "output_type": "stream",
          "name": "stdout",
          "text": [
            "Decision Tree Accuracy: 0.9181286549707602\n",
            "Bagging Classifier Accuracy: 0.9590643274853801\n"
          ]
        }
      ]
    },
    {
      "cell_type": "code",
      "source": [
        "# 35. Train a Random Forest Classifier and visualize the confusion matrix\n",
        "\n",
        "import seaborn as sns\n",
        "import matplotlib.pyplot as plt\n",
        "from sklearn.metrics import confusion_matrix\n",
        "\n",
        "rf = RandomForestClassifier(n_estimators=100, random_state=42)\n",
        "rf.fit(X_train, y_train)\n",
        "y_pred = rf.predict(X_test)\n",
        "\n",
        "cm = confusion_matrix(y_test, y_pred)\n",
        "sns.heatmap(cm, annot=True, fmt='d', cmap='Blues')\n",
        "plt.title(\"Confusion Matrix - Random Forest\")\n",
        "plt.xlabel(\"Predicted\")\n",
        "plt.ylabel(\"Actual\")\n",
        "plt.show()\n"
      ],
      "metadata": {
        "colab": {
          "base_uri": "https://localhost:8080/",
          "height": 472
        },
        "id": "DMKJ20mv5hLq",
        "outputId": "e7135e4f-a8bf-4f29-9be3-2f68c82fe749"
      },
      "execution_count": 2,
      "outputs": [
        {
          "output_type": "display_data",
          "data": {
            "text/plain": [
              "<Figure size 640x480 with 2 Axes>"
            ],
            "image/png": "[encoded data removed]"
          },
          "metadata": {}
        }
      ]
    },
    {
      "cell_type": "code",
      "source": [
        "# 36. Train a Stacking Classifier using Decision Trees, SVM, and Logistic Regression, and compare accuracy\n",
        "\n",
        "from sklearn.datasets import load_iris\n",
        "from sklearn.model_selection import train_test_split\n",
        "from sklearn.ensemble import StackingClassifier\n",
        "from sklearn.linear_model import LogisticRegression\n",
        "from sklearn.tree import DecisionTreeClassifier\n",
        "from sklearn.svm import SVC\n",
        "from sklearn.metrics import accuracy_score\n",
        "\n",
        "# Load a multiclass dataset with good class balance\n",
        "X, y = load_iris(return_X_y=True)\n",
        "X_train, X_test, y_train, y_test = train_test_split(X, y, test_size=0.3, random_state=42, stratify=y)\n",
        "\n",
        "# Define base learners\n",
        "base_learners = [\n",
        "    ('dt', DecisionTreeClassifier()),\n",
        "    ('svm', SVC(probability=True))\n",
        "]\n",
        "\n",
        "# Define meta learner\n",
        "meta_learner = LogisticRegression(max_iter=500)\n",
        "\n",
        "# Create and train Stacking Classifier\n",
        "stack_model = StackingClassifier(estimators=base_learners, final_estimator=meta_learner)\n",
        "stack_model.fit(X_train, y_train)\n",
        "\n",
        "# Predict and evaluate\n",
        "y_pred = stack_model.predict(X_test)\n",
        "print(\"Stacking Classifier Accuracy:\", accuracy_score(y_test, y_pred))\n",
        "\n"
      ],
      "metadata": {
        "colab": {
          "base_uri": "https://localhost:8080/"
        },
        "id": "3T-9ktAX5hOW",
        "outputId": "e9d5bbec-79af-4356-e719-5dd1e19f1057"
      },
      "execution_count": 34,
      "outputs": [
        {
          "output_type": "stream",
          "name": "stdout",
          "text": [
            "Stacking Classifier Accuracy: 0.9333333333333333\n"
          ]
        }
      ]
    },
    {
      "cell_type": "code",
      "source": [
        "# 37. Train a Random Forest Classifier and print the top 5 most important features\n",
        "\n",
        "rf = RandomForestClassifier(n_estimators=100, random_state=42)\n",
        "rf.fit(X_train, y_train)\n",
        "\n",
        "importances = rf.feature_importances_\n",
        "indices = importances.argsort()[::-1][:5]\n",
        "\n",
        "feature_names = load_breast_cancer().feature_names\n",
        "print(\"Top 5 Important Features:\")\n",
        "for i in indices:\n",
        "    print(f\"{feature_names[i]}: {importances[i]:.4f}\")\n"
      ],
      "metadata": {
        "colab": {
          "base_uri": "https://localhost:8080/"
        },
        "id": "f0CFtkf35hRQ",
        "outputId": "b35f4e2b-2c5c-45c1-97c4-1f4fe885d3e6"
      },
      "execution_count": 9,
      "outputs": [
        {
          "output_type": "stream",
          "name": "stdout",
          "text": [
            "Top 5 Important Features:\n",
            "mean perimeter: 0.1235\n",
            "mean symmetry: 0.1216\n",
            "mean area: 0.1158\n",
            "mean compactness: 0.1149\n",
            "mean fractal dimension: 0.1137\n"
          ]
        }
      ]
    },
    {
      "cell_type": "code",
      "source": [
        "# 38. Train a Bagging Classifier and evaluate performance using Precision, Recall, and F1-Score\n",
        "\n",
        "from sklearn.datasets import load_iris\n",
        "from sklearn.ensemble import BaggingClassifier\n",
        "from sklearn.tree import DecisionTreeClassifier\n",
        "from sklearn.metrics import precision_score, recall_score, f1_score\n",
        "from sklearn.model_selection import train_test_split\n",
        "\n",
        "# Load a multiclass dataset\n",
        "X, y = load_iris(return_X_y=True)\n",
        "X_train, X_test, y_train, y_test = train_test_split(X, y, test_size=0.3, random_state=42)\n",
        "\n",
        "# Train Bagging Classifier\n",
        "bag = BaggingClassifier(estimator=DecisionTreeClassifier(), n_estimators=50, random_state=42)\n",
        "bag.fit(X_train, y_train)\n",
        "y_pred = bag.predict(X_test)\n",
        "\n",
        "# Use 'macro' average for multiclass metrics\n",
        "print(\"Precision (macro):\", precision_score(y_test, y_pred, average='macro'))\n",
        "print(\"Recall (macro):\", recall_score(y_test, y_pred, average='macro'))\n",
        "print(\"F1-Score (macro):\", f1_score(y_test, y_pred, average='macro'))\n",
        "\n"
      ],
      "metadata": {
        "colab": {
          "base_uri": "https://localhost:8080/"
        },
        "id": "00OyrO9_5hV6",
        "outputId": "03847a26-1d2c-469a-d273-8752619bc173"
      },
      "execution_count": 25,
      "outputs": [
        {
          "output_type": "stream",
          "name": "stdout",
          "text": [
            "Precision (macro): 1.0\n",
            "Recall (macro): 1.0\n",
            "F1-Score (macro): 1.0\n"
          ]
        }
      ]
    },
    {
      "cell_type": "code",
      "source": [
        "# 39. Train a Random Forest Classifier and analyze the effect of max_depth on accuracy\n",
        "\n",
        "for depth in [2, 5, 10, None]:\n",
        "    model = RandomForestClassifier(n_estimators=100, max_depth=depth, random_state=42)\n",
        "    model.fit(X_train, y_train)\n",
        "    acc = model.score(X_test, y_test)\n",
        "    print(f\"Max Depth = {depth}: Accuracy = {acc:.4f}\")\n"
      ],
      "metadata": {
        "colab": {
          "base_uri": "https://localhost:8080/"
        },
        "id": "mn7dYgs_5hfM",
        "outputId": "4c0081c4-a99b-43d6-ba49-c3b7365bdc97"
      },
      "execution_count": 12,
      "outputs": [
        {
          "output_type": "stream",
          "name": "stdout",
          "text": [
            "Max Depth = 2: Accuracy = 0.0000\n",
            "Max Depth = 5: Accuracy = 0.0075\n",
            "Max Depth = 10: Accuracy = 0.0000\n",
            "Max Depth = None: Accuracy = 0.0075\n"
          ]
        }
      ]
    },
    {
      "cell_type": "code",
      "source": [
        "# 40. Train a Bagging Regressor using different base estimators (DecisionTree and KNeighbors) and compare performance\n",
        "\n",
        "from sklearn.datasets import load_diabetes\n",
        "from sklearn.tree import DecisionTreeRegressor\n",
        "from sklearn.neighbors import KNeighborsRegressor\n",
        "from sklearn.ensemble import BaggingRegressor\n",
        "from sklearn.model_selection import train_test_split\n",
        "from sklearn.metrics import mean_squared_error\n",
        "\n",
        "# Load diabetes dataset for regression\n",
        "X, y = load_diabetes(return_X_y=True)\n",
        "X_train_r, X_test_r, y_train_r, y_test_r = train_test_split(X, y, test_size=0.3, random_state=42)\n",
        "\n",
        "# Try different base estimators\n",
        "for base in [DecisionTreeRegressor(), KNeighborsRegressor()]:\n",
        "    name = base.__class__.__name__\n",
        "    bag = BaggingRegressor(estimator=base, n_estimators=10, random_state=42)\n",
        "    bag.fit(X_train_r, y_train_r)\n",
        "    pred = bag.predict(X_test_r)\n",
        "    mse = mean_squared_error(y_test_r, pred)\n",
        "    print(f\"{name} as base estimator --> MSE: {mse:.2f}\")\n",
        "\n"
      ],
      "metadata": {
        "colab": {
          "base_uri": "https://localhost:8080/"
        },
        "id": "999HaL2Y5hkU",
        "outputId": "eae4ba12-6b4f-450b-f1bc-fe17984ef8df"
      },
      "execution_count": 24,
      "outputs": [
        {
          "output_type": "stream",
          "name": "stdout",
          "text": [
            "DecisionTreeRegressor as base estimator --> MSE: 3237.53\n",
            "KNeighborsRegressor as base estimator --> MSE: 3245.51\n"
          ]
        }
      ]
    },
    {
      "cell_type": "code",
      "source": [
        "# 41. Train a Random Forest Classifier and evaluate its performance using ROC-AUC Score\n",
        "\n",
        "from sklearn.datasets import load_breast_cancer\n",
        "from sklearn.ensemble import RandomForestClassifier\n",
        "from sklearn.model_selection import train_test_split\n",
        "from sklearn.metrics import roc_auc_score\n",
        "\n",
        "# Load binary classification data\n",
        "X, y = load_breast_cancer(return_X_y=True)\n",
        "X_train, X_test, y_train, y_test = train_test_split(X, y, test_size=0.3, random_state=42)\n",
        "\n",
        "# Train Random Forest\n",
        "rf = RandomForestClassifier(n_estimators=100, random_state=42)\n",
        "rf.fit(X_train, y_train)\n",
        "\n",
        "# Predict probabilities for the positive class\n",
        "y_proba = rf.predict_proba(X_test)[:, 1]\n",
        "\n",
        "# Calculate and print ROC-AUC score\n",
        "print(\"ROC-AUC Score:\", roc_auc_score(y_test, y_proba))\n"
      ],
      "metadata": {
        "colab": {
          "base_uri": "https://localhost:8080/"
        },
        "id": "3RtCFWUi5ho0",
        "outputId": "02eb2779-8523-46c1-9bd0-7ac82639e931"
      },
      "execution_count": 23,
      "outputs": [
        {
          "output_type": "stream",
          "name": "stdout",
          "text": [
            "ROC-AUC Score: 0.9968400940623163\n"
          ]
        }
      ]
    },
    {
      "cell_type": "code",
      "source": [
        "# 42. Train a Bagging Classifier and evaluate its performance using cross-validation\n",
        "\n",
        "from sklearn.datasets import load_breast_cancer\n",
        "from sklearn.tree import DecisionTreeClassifier\n",
        "from sklearn.ensemble import BaggingClassifier\n",
        "from sklearn.model_selection import cross_val_score\n",
        "\n",
        "# Load binary classification dataset\n",
        "X, y = load_breast_cancer(return_X_y=True)\n",
        "\n",
        "# Use `estimator` instead of `base_estimator`\n",
        "bag = BaggingClassifier(estimator=DecisionTreeClassifier(), n_estimators=50, random_state=42)\n",
        "\n",
        "# Evaluate with cross-validation\n",
        "scores = cross_val_score(bag, X, y, cv=5, scoring='accuracy')\n",
        "\n",
        "print(\"Cross-Validation Accuracy Scores:\", scores)\n",
        "print(\"Average Accuracy:\", scores.mean())\n",
        "\n"
      ],
      "metadata": {
        "colab": {
          "base_uri": "https://localhost:8080/"
        },
        "id": "X_dzUyNn5htF",
        "outputId": "64de26b2-3eaf-438e-cd5d-e1483032a48a"
      },
      "execution_count": 22,
      "outputs": [
        {
          "output_type": "stream",
          "name": "stdout",
          "text": [
            "Cross-Validation Accuracy Scores: [0.9122807  0.92105263 0.98245614 0.95614035 1.        ]\n",
            "Average Accuracy: 0.9543859649122808\n"
          ]
        }
      ]
    },
    {
      "cell_type": "code",
      "source": [
        "# 43. Train a Random Forest Classifier and plot the Precision-Recall curve (Binary Classification)\n",
        "\n",
        "from sklearn.datasets import load_breast_cancer\n",
        "from sklearn.ensemble import RandomForestClassifier\n",
        "from sklearn.model_selection import train_test_split\n",
        "from sklearn.metrics import precision_recall_curve\n",
        "import matplotlib.pyplot as plt\n",
        "\n",
        "# Load binary classification data\n",
        "X, y = load_breast_cancer(return_X_y=True)\n",
        "X_train, X_test, y_train, y_test = train_test_split(X, y, test_size=0.3, random_state=42)\n",
        "\n",
        "# Train model\n",
        "rf = RandomForestClassifier(n_estimators=100, random_state=42)\n",
        "rf.fit(X_train, y_train)\n",
        "\n",
        "# Get prediction probabilities for the positive class\n",
        "probs = rf.predict_proba(X_test)[:, 1]\n",
        "\n",
        "# Compute precision-recall values\n",
        "precision, recall, _ = precision_recall_curve(y_test, probs)\n",
        "\n",
        "# Plot\n",
        "plt.figure(figsize=(8,5))\n",
        "plt.plot(recall, precision, marker='.')\n",
        "plt.xlabel('Recall')\n",
        "plt.ylabel('Precision')\n",
        "plt.title('Precision-Recall Curve (Random Forest)')\n",
        "plt.grid(True)\n",
        "plt.show()\n"
      ],
      "metadata": {
        "colab": {
          "base_uri": "https://localhost:8080/",
          "height": 487
        },
        "id": "I3yToajP5hw9",
        "outputId": "f4d5c450-fe72-4b75-e67b-4a2752ccad92"
      },
      "execution_count": 21,
      "outputs": [
        {
          "output_type": "display_data",
          "data": {
            "text/plain": [
              "<Figure size 800x500 with 1 Axes>"
            ],
            "image/png": "[encoded data removed]"
          },
          "metadata": {}
        }
      ]
    },
    {
      "cell_type": "code",
      "source": [
        "# 44. Train a Stacking Classifier with Random Forest and Logistic Regression and compare accuracy\n",
        "\n",
        "from sklearn.datasets import load_breast_cancer\n",
        "from sklearn.ensemble import StackingClassifier, RandomForestClassifier\n",
        "from sklearn.linear_model import LogisticRegression\n",
        "from sklearn.model_selection import train_test_split\n",
        "from sklearn.metrics import accuracy_score\n",
        "\n",
        "# Load a clean binary classification dataset\n",
        "X, y = load_breast_cancer(return_X_y=True)\n",
        "X_train, X_test, y_train, y_test = train_test_split(X, y, test_size=0.3, random_state=42, stratify=y)\n",
        "\n",
        "# Define base and meta estimators\n",
        "base_models = [\n",
        "    ('rf', RandomForestClassifier(n_estimators=100, random_state=42))\n",
        "]\n",
        "meta_model = LogisticRegression(max_iter=1000)\n",
        "\n",
        "# Define and train stacking classifier\n",
        "stack_model = StackingClassifier(estimators=base_models, final_estimator=meta_model, cv=5)\n",
        "stack_model.fit(X_train, y_train)\n",
        "\n",
        "# Predict and evaluate\n",
        "y_pred = stack_model.predict(X_test)\n",
        "print(\"Stacking Classifier Accuracy:\", accuracy_score(y_test, y_pred))\n",
        "\n"
      ],
      "metadata": {
        "colab": {
          "base_uri": "https://localhost:8080/"
        },
        "id": "fPTKATmN5h1Q",
        "outputId": "f7c723ca-ab7a-4348-d445-0be64a307a59"
      },
      "execution_count": 35,
      "outputs": [
        {
          "output_type": "stream",
          "name": "stdout",
          "text": [
            "Stacking Classifier Accuracy: 0.935672514619883\n"
          ]
        }
      ]
    },
    {
      "cell_type": "code",
      "source": [
        "# 45. Train a Bagging Regressor with different levels of bootstrap samples and compare performance (scikit-learn ≥1.2)\n",
        "\n",
        "from sklearn.datasets import load_diabetes\n",
        "from sklearn.ensemble import BaggingRegressor\n",
        "from sklearn.tree import DecisionTreeRegressor\n",
        "from sklearn.model_selection import train_test_split\n",
        "from sklearn.metrics import mean_squared_error\n",
        "\n",
        "# Load the dataset\n",
        "X, y = load_diabetes(return_X_y=True)\n",
        "X_train, X_test, y_train, y_test = train_test_split(X, y, test_size=0.3, random_state=42)\n",
        "\n",
        "# Loop through different bootstrap settings\n",
        "for bootstrap_setting in [True, False]:\n",
        "    model = BaggingRegressor(\n",
        "        estimator=DecisionTreeRegressor(),\n",
        "        n_estimators=10,\n",
        "        bootstrap=bootstrap_setting,\n",
        "        random_state=42\n",
        "    )\n",
        "    model.fit(X_train, y_train)\n",
        "    y_pred = model.predict(X_test)\n",
        "    mse = mean_squared_error(y_test, y_pred)\n",
        "    print(f\"Bootstrap = {bootstrap_setting} --> MSE: {mse:.2f}\")\n",
        "\n",
        "\n"
      ],
      "metadata": {
        "colab": {
          "base_uri": "https://localhost:8080/"
        },
        "id": "7vzbJvyM5h5o",
        "outputId": "746ed305-5a03-4220-9201-005249d2eb72"
      },
      "execution_count": 29,
      "outputs": [
        {
          "output_type": "stream",
          "name": "stdout",
          "text": [
            "Bootstrap = True --> MSE: 3237.53\n",
            "Bootstrap = False --> MSE: 5139.49\n"
          ]
        }
      ]
    }
  ]
}